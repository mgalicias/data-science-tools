{
 "cells": [
  {
   "cell_type": "markdown",
   "id": "1942c643",
   "metadata": {},
   "source": [
    "### Activity\n",
    "Write some code that creates a list of integers, loops through each element of the list, and only prints out even numbers."
   ]
  },
  {
   "cell_type": "code",
   "execution_count": 13,
   "id": "221b41a1",
   "metadata": {},
   "outputs": [
    {
     "name": "stdout",
     "output_type": "stream",
     "text": [
      "[0, -4, -2, -4, -6, 10, -4, -10, -2, -16, 0, -8, 26, 18, 16, 0, 30, -4, -18, -10, -32, -38, 0, 28, -52, 52, -52, -26, 28, -32, -34, -62, 0, 20, -12, -18, -28, 56, -18, 80, -66, 78, -36, -60, -62, 56, -18]\n"
     ]
    }
   ],
   "source": [
    "import random\n",
    "\n",
    "list = []\n",
    "even_number = []\n",
    "odd_number = []\n",
    "for i in range(100):\n",
    "    list.append(random.randint(-i,i))\n",
    "    if list[i] %2 == 0:\n",
    "        even_number.append(list[i])\n",
    "    else:\n",
    "        odd_number.append(list[i])\n",
    "        \n",
    "print(even_number)\n",
    "\n"
   ]
  }
 ],
 "metadata": {
  "kernelspec": {
   "display_name": "Python 3 (ipykernel)",
   "language": "python",
   "name": "python3"
  },
  "language_info": {
   "codemirror_mode": {
    "name": "ipython",
    "version": 3
   },
   "file_extension": ".py",
   "mimetype": "text/x-python",
   "name": "python",
   "nbconvert_exporter": "python",
   "pygments_lexer": "ipython3",
   "version": "3.11.3"
  }
 },
 "nbformat": 4,
 "nbformat_minor": 5
}
