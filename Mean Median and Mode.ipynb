{
 "cells": [
  {
   "cell_type": "markdown",
   "id": "01ab6b64",
   "metadata": {},
   "source": [
    "# Mean, Median and mode\n",
    "\n",
    "## Mean vs Median\n",
    "\n",
    "Let's creatre some fake income data, centered around 27,000 with a normal distribution and standar deviation fo 15,000 with 10,000 data points."
   ]
  },
  {
   "cell_type": "code",
   "execution_count": 1,
   "id": "1df399ec",
   "metadata": {},
   "outputs": [
    {
     "name": "stdout",
     "output_type": "stream",
     "text": [
      " The mean is 27119.502623627413\n",
      " The mean is 27119.502623627413\n"
     ]
    }
   ],
   "source": [
    "import numpy as np\n",
    "\n",
    "incomes = np.random.normal(27000,15000,10000)\n",
    "print(f\" The mean is {np.mean(incomes)}\")\n",
    "print(f\" The mean is {incomes.mean()}\")\n",
    "    \n"
   ]
  },
  {
   "cell_type": "markdown",
   "id": "1ccc1ac5",
   "metadata": {},
   "source": [
    "We can segment the income data into 50 buckets, and plot i as histogram:"
   ]
  },
  {
   "cell_type": "code",
   "execution_count": 2,
   "id": "87510b43",
   "metadata": {},
   "outputs": [
    {
     "data": {
      "image/png": "[encoded data removed]",
      "text/plain": [
       "<Figure size 640x480 with 1 Axes>"
      ]
     },
     "metadata": {},
     "output_type": "display_data"
    }
   ],
   "source": [
    "%matplotlib inline\n",
    "import matplotlib.pyplot as plt\n",
    "plt.hist(incomes,50) \n",
    "plt.show() # only shows the histogram"
   ]
  },
  {
   "cell_type": "code",
   "execution_count": 3,
   "id": "f5a7e55c",
   "metadata": {},
   "outputs": [
    {
     "name": "stdout",
     "output_type": "stream",
     "text": [
      "the median is 27181.336815957853\n"
     ]
    }
   ],
   "source": [
    "print(f\"the median is {np.median(incomes)}\")\n",
    "# print(f\"The median is {incomes.median()}\") # doesn't works"
   ]
  },
  {
   "cell_type": "code",
   "execution_count": 4,
   "id": "78fdb0ea",
   "metadata": {},
   "outputs": [],
   "source": [
    "incomes = np.append(incomes,[100000000])"
   ]
  },
  {
   "cell_type": "code",
   "execution_count": 5,
   "id": "01ed900d",
   "metadata": {},
   "outputs": [
    {
     "name": "stdout",
     "output_type": "stream",
     "text": [
      "The new mean is 37115.79104452296\n",
      "The new median is 27183.35654130244\n"
     ]
    }
   ],
   "source": [
    "print(f\"The new mean is {incomes.mean()}\")\n",
    "print(f\"The new median is {np.median(incomes)}\")"
   ]
  },
  {
   "cell_type": "markdown",
   "id": "a877d0a5",
   "metadata": {},
   "source": [
    "# Mode\n",
    "\n",
    "Let's generate some fake age data for 500 people:\n",
    "\n"
   ]
  },
  {
   "cell_type": "code",
   "execution_count": 6,
   "id": "5e968685",
   "metadata": {},
   "outputs": [
    {
     "data": {
      "text/plain": [
       "array([47, 84, 64, 89, 57, 48, 34, 28, 25, 46, 72, 34, 34, 27, 59, 22, 82,\n",
       "       41, 54, 27, 65, 46, 69, 75, 31, 88, 49, 82, 35, 35, 62, 62, 89, 57,\n",
       "       48, 54, 30, 84, 55, 51, 88, 52, 73, 20, 63, 75, 64, 55, 61, 76, 36,\n",
       "       24, 74, 62, 32, 67, 61, 81, 57, 25, 67, 50, 61, 86, 46, 78, 87, 48,\n",
       "       70, 18, 50, 30, 56, 41, 53, 85, 21, 28, 54, 33, 27, 77, 63, 46, 29,\n",
       "       21, 83, 66, 36, 55, 42, 48, 86, 71, 53, 79, 67, 84, 37, 53, 58, 50,\n",
       "       88, 89, 82, 23, 32, 86, 45, 58, 56, 37, 49, 66, 69, 45, 21, 36, 81,\n",
       "       68, 31, 38, 33, 73, 18, 86, 24, 33, 64, 63, 69, 18, 39, 78, 27, 72,\n",
       "       55, 74, 30, 83, 71, 62, 62, 55, 44, 39, 22, 88, 85, 18, 34, 35, 48,\n",
       "       56, 48, 82, 72, 76, 72, 83, 64, 18, 72, 66, 49, 36, 59, 83, 54, 61,\n",
       "       30, 41, 62, 70, 75, 23, 26, 60, 51, 59, 41, 19, 27, 26, 23, 74, 77,\n",
       "       75, 73, 62, 73, 24, 29, 19, 22, 81, 45, 84, 42, 45, 25, 70, 53, 74,\n",
       "       72, 87, 69, 73, 70, 19, 43, 74, 36, 88, 63, 18, 45, 29, 37, 49, 49,\n",
       "       88, 33, 42, 68, 85, 33, 33, 18, 80, 68, 24, 80, 50, 21, 50, 47, 28,\n",
       "       76, 23, 84, 56, 42, 23, 45, 31, 42, 33, 48, 26, 72, 19, 75, 66, 70,\n",
       "       20, 45, 70, 69, 87, 19, 80, 69, 81, 39, 49, 43, 70, 18, 29, 19, 47,\n",
       "       42, 89, 68, 64, 77, 71, 39, 37, 60, 70, 68, 64, 80, 86, 51, 74, 36,\n",
       "       78, 86, 43, 25, 89, 42, 38, 66, 27, 86, 88, 51, 82, 55, 43, 85, 42,\n",
       "       85, 19, 67, 25, 43, 89, 38, 86, 26, 63, 47, 24, 88, 78, 65, 71, 73,\n",
       "       77, 53, 66, 22, 44, 79, 39, 59, 89, 47, 22, 52, 49, 56, 79, 37, 41,\n",
       "       25, 65, 73, 61, 74, 70, 61, 71, 57, 62, 26, 78, 32, 39, 45, 80, 18,\n",
       "       52, 63, 69, 65, 62, 23, 21, 79, 89, 48, 64, 78, 84, 53, 49, 47, 45,\n",
       "       64, 71, 85, 81, 80, 74, 87, 54, 49, 25, 20, 66, 32, 71, 60, 59, 35,\n",
       "       64, 78, 29, 75, 39, 38, 54, 54, 36, 40, 60, 63, 62, 51, 77, 66, 42,\n",
       "       80, 57, 71, 35, 81, 84, 61, 64, 62, 58, 66, 42, 85, 40, 81, 81, 21,\n",
       "       49, 63, 81, 71, 68, 51, 78, 56, 45, 63, 41, 57, 24, 73, 83, 73, 77,\n",
       "       61, 25, 64, 63, 64, 79, 78, 19, 77, 66, 27, 36, 72, 48, 70, 50, 81,\n",
       "       59, 28, 77, 66, 32, 66, 75, 67, 86, 32, 33, 24, 85, 77, 60, 44, 86,\n",
       "       49, 33, 82, 44, 61, 23, 34, 28, 48, 21, 54, 24, 50, 80, 41, 72, 89,\n",
       "       87, 39, 75, 26, 79, 36, 46])"
      ]
     },
     "execution_count": 6,
     "metadata": {},
     "output_type": "execute_result"
    }
   ],
   "source": [
    "ages = np.random.randint(18,high=90,size=500)\n",
    "ages"
   ]
  },
  {
   "cell_type": "code",
   "execution_count": 7,
   "id": "6466c5f8",
   "metadata": {},
   "outputs": [
    {
     "data": {
      "text/plain": [
       "ModeResult(mode=64, count=12)"
      ]
     },
     "execution_count": 7,
     "metadata": {},
     "output_type": "execute_result"
    }
   ],
   "source": [
    "from scipy import stats\n",
    "stats.mode(ages)"
   ]
  }
 ],
 "metadata": {
  "kernelspec": {
   "display_name": "Python 3 (ipykernel)",
   "language": "python",
   "name": "python3"
  },
  "language_info": {
   "codemirror_mode": {
    "name": "ipython",
    "version": 3
   },
   "file_extension": ".py",
   "mimetype": "text/x-python",
   "name": "python",
   "nbconvert_exporter": "python",
   "pygments_lexer": "ipython3",
   "version": "3.11.3"
  }
 },
 "nbformat": 4,
 "nbformat_minor": 5
}
